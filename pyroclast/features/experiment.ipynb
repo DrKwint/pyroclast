{
 "cells": [
  {
   "cell_type": "code",
   "execution_count": 34,
   "metadata": {},
   "outputs": [],
   "source": [
    "import tensorflow as tf\n",
    "from pyroclast.features.features import build_savable_objects\n",
    "from pyroclast.common.tf_util import setup_tfds\n",
    "from tqdm import tqdm"
   ]
  },
  {
   "cell_type": "code",
   "execution_count": 23,
   "metadata": {},
   "outputs": [],
   "source": [
    "conv_stack_name = 'ross_net'\n",
    "data_dict = setup_tfds('mnist', batch_size=32, data_dir=None)\n",
    "learning_rate = 1e-4\n",
    "output_dir = r'C:\\Users\\elean\\OneDrive\\Documents\\GitHub\\pyroclast\\features_output'\n",
    "\n",
    "model, optimizer, global_step, checkpoint, ckpt_manager = build_savable_objects(conv_stack_name, data_dict, learning_rate, output_dir)\n",
    "if ckpt_manager.latest_checkpoint is not None:\n",
    "    checkpoint.restore(ckpt_manager.latest_checkpoint)\n",
    "else:\n",
    "    print(\"Wrong directory?\")"
   ]
  },
  {
   "cell_type": "code",
   "execution_count": 29,
   "metadata": {},
   "outputs": [],
   "source": [
    "def calculate_accuracy(logits, label):\n",
    "    \"\"\"Compare argmax logits to int label, returns value in [0,1]\"\"\"\n",
    "    prediction = tf.argmax(logits, 1)\n",
    "    equality = tf.equal(prediction, label)\n",
    "    accuracy = tf.reduce_mean(tf.cast(equality, tf.float32))\n",
    "    return accuracy"
   ]
  },
  {
   "cell_type": "code",
   "execution_count": 36,
   "metadata": {},
   "outputs": [
    {
     "name": "stderr",
     "output_type": "stream",
     "text": [
      "1875it [00:13, 137.92it/s]\n",
      "313it [00:02, 138.07it/s]\n"
     ]
    },
    {
     "name": "stdout",
     "output_type": "stream",
     "text": [
      "Train Accuracy: 0.98264074\n",
      "Test Accuracy: 0.98727965\n"
     ]
    }
   ],
   "source": [
    "train_sum = 0.\n",
    "for i, x in tqdm(enumerate(data_dict['train'])):\n",
    "    logits = model(tf.cast(x['image'], tf.float32))\n",
    "    train_sum += calculate_accuracy(logits, x['label'])\n",
    "train_accuracy = (train_sum / i).numpy()\n",
    "\n",
    "test_sum = 0.\n",
    "for i, x in tqdm(enumerate(data_dict['test'])):\n",
    "    logits = model(tf.cast(x['image'], tf.float32))\n",
    "    test_sum += calculate_accuracy(logits, x['label'])\n",
    "test_accuracy = (test_sum / i).numpy()\n",
    "\n",
    "print(\"Train Accuracy:\", train_accuracy)\n",
    "print(\"Test Accuracy:\", test_accuracy)"
   ]
  },
  {
   "cell_type": "code",
   "execution_count": null,
   "metadata": {},
   "outputs": [],
   "source": []
  }
 ],
 "metadata": {
  "kernelspec": {
   "display_name": "Python 3",
   "language": "python",
   "name": "python3"
  },
  "language_info": {
   "codemirror_mode": {
    "name": "ipython",
    "version": 3
   },
   "file_extension": ".py",
   "mimetype": "text/x-python",
   "name": "python",
   "nbconvert_exporter": "python",
   "pygments_lexer": "ipython3",
   "version": "3.7.6"
  }
 },
 "nbformat": 4,
 "nbformat_minor": 4
}
